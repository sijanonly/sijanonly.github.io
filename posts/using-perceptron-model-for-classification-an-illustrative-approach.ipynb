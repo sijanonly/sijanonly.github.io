{
 "cells": [
  {
   "cell_type": "markdown",
   "metadata": {},
   "source": [
    "In this post, we are going to devise a measurement tool (perceptron model) in order to classify : whether a person is infected by a diseases or not.\n",
    "\n",
    "In binary terms, the output will be\n",
    "           \n",
    "           {\n",
    "                1   if infected \n",
    "                0   not infected\n",
    "            } \n",
    "\n",
    "To build inputs for our neural network, we take readings from the patients and we will treat readings as follows :\n",
    "\n",
    "      body temperature = {\n",
    "                              1   if body temperator > 99'F\n",
    "                             -1   if body temperator = 99'F\n",
    "                         }\n",
    "      \n",
    "      heart rate = {\n",
    "                          1   if heart rate > 60 to 100\n",
    "                         -1   if heart rate = 60 to 100\n",
    "                     }\n",
    "      \n",
    "       blood pressure = {\n",
    "                              1   if heart rate > 120/80\n",
    "                             -1   if heart rate = 120/80\n",
    "                         }\n",
    "     \n",
    " So, input from each patient will be represented as a three dimensional vector:\n",
    " \n",
    "      input = (body temperatur, heart rate, blood pressure)\n",
    "So, a person can now be represented as : \n",
    "            \n",
    "    (1, -1, 1)\n",
    "    i.e (body temperator > 99'F, heart rate = 60 to 100, heart rate > 120/80)"
   ]
  },
  {
   "cell_type": "markdown",
   "metadata": {},
   "source": [
    "Let us create two inputs with desired output value\n",
    "\n",
    "          x1 = (1, 1, 1), d1 = 1 (infected)\n",
    "           x2 = (-1, -1, -1), d2 = 0 (not infected)\n",
    "Let us take initial values for weights and biases:\n",
    "          weights, w0 = (-1, 0.5, 0)\n",
    "          bias, b0 = 0.5\n",
    "\n",
    "And, activation function:\n",
    "\n",
    "             A(S)   = {\n",
    "                        1 if S >=0\n",
    "                        0 otherwise\n",
    "                      }\n",
    "#### STEP 1\n",
    "Feed `x1 = (1, 1, 1)` into the network.\n",
    "\n",
    "weighted_sum:\n",
    "\n",
    "    S = (-1, 0.5, 0) * (1, 1, 1)^T + 0\n",
    "      = -1 + 0.5 + 0 + 0\n",
    "      = -0.5\n",
    "\n",
    "When passed through activation function A(-0.5) = 0 = y1\n",
    "We passed an `infected` input vector, but our perceptron classified it as `not infected`.\n",
    "Let's calculate the error term:\n",
    "          \n",
    "                 e = d1 - y1 = 1 - 0 = 1\n",
    "Update weight as:\n",
    "\n",
    "                 w1 = w0 + e * x1 = (-1, 0.5, 0) + 1 * (1, 1, 1) = (0, 1.5, 1)\n",
    "And, update bias as:\n",
    "                \n",
    "                 b1 = b0 + e = 1"
   ]
  },
  {
   "cell_type": "markdown",
   "metadata": {},
   "source": [
    "#### STEP 2"
   ]
  },
  {
   "cell_type": "markdown",
   "metadata": {},
   "source": [
    "Now, we feed second input `(-1, -1, -1)` into our network.\n",
    "\n",
    "weighted_sum : \n",
    "       \n",
    "    S = w1 * x2^T + b1 \n",
    "      = (0, 1.5, 1) * (-1, -1, -1)^T + 1\n",
    "      = -1.5 - 1 + 1\n",
    "      = -1.5\n",
    " When passed through activation function A(-1.5) = 0 = y2\n",
    " We passed an `not infected` input vector, and our perceptron successfully classified it as `not infected`."
   ]
  },
  {
   "cell_type": "markdown",
   "metadata": {},
   "source": [
    "#### STEP 3"
   ]
  },
  {
   "cell_type": "markdown",
   "metadata": {},
   "source": [
    "Since, our first input is mis-classified, so we will go for it.\n",
    "\n",
    "weighted_sum :\n",
    "\n",
    "    S = w1 * x1^T + b1 \n",
    "      = (0, 1.5, 1) * (1, 1, 1)^T + 1\n",
    "      = 1.5 + 1 + 1\n",
    "      = 3.5\n",
    " When passed through activation function A(3.5) = 1 = y3\n",
    " We passed an `infected` input vector, and our perceptron successfully classified it as `infected`.\n",
    " \n",
    " Here, both input vectors are correctly classified. i.e algorithm is converged to a solution point.\n"
   ]
  },
  {
   "cell_type": "code",
   "execution_count": null,
   "metadata": {},
   "outputs": [],
   "source": []
  }
 ],
 "metadata": {
  "kernelspec": {
   "display_name": "Python 3",
   "language": "python",
   "name": "python3"
  },
  "language_info": {
   "codemirror_mode": {
    "name": "ipython",
    "version": 3
   },
   "file_extension": ".py",
   "mimetype": "text/x-python",
   "name": "python",
   "nbconvert_exporter": "python",
   "pygments_lexer": "ipython3",
   "version": "3.5.2"
  },
  "nikola": {
   "category": "",
   "date": "2018-10-24 02:27:54 UTC+05:45",
   "description": "",
   "link": "",
   "slug": "using-perceptron-model-for-classification-an-illustrative-approach",
   "tags": "perceptron",
   "title": "Using perceptron model for classification : an illustrative approach",
   "type": "text"
  }
 },
 "nbformat": 4,
 "nbformat_minor": 2
}
