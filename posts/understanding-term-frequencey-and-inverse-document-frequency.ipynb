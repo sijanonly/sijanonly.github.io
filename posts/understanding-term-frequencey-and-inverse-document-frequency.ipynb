{
 "cells": [
  {
   "cell_type": "markdown",
   "metadata": {},
   "source": [
    "\n",
    "In any document, the frequency of occurrence of terms is taken as an important measure of score for that document (Term Frequency). For example : a document has total 100 words, and 30 words are 'mountains', we ,without hesitation, say that this document is talking about 'Mountains'.\n"
   ]
  },
  {
   "cell_type": "markdown",
   "metadata": {},
   "source": [
    "But, if we only include most frequent word as our score metric, we will eventually loose the actual relevancy score of the document. Since same word could exist in number of documents and it's just frequent occurrence without adding much meaning to current context. In the above example : Suppose, there are two documents talking about 'Mt. Everest'. We obviously know that there will be higher occurrence of word 'Mountains'. But, if we use 'Term Frequecy (tf)' alone, term 'Mountains' will get highest weight rather than term 'Everest'. It's not fair. And, Inverse-Document-Frequency will tackle it."
   ]
  },
  {
   "cell_type": "markdown",
   "metadata": {},
   "source": [
    "### Term Frequency (TF):\n",
    "It simply measures the frequency/occurent of a term in a document. So, it gives equal important to all terms. Longer document could have large number of terms than smaller documents, so better to normalize this metric by dividing with total number of terms in the document."
   ]
  },
  {
   "cell_type": "markdown",
   "metadata": {},
   "source": [
    "### Applications:\n",
    "1. Summarizing a document by extracting keywords.\n",
    "2. Comparing two documents (similary/ relevancy check)\n",
    "3. Search query to documents matching for building query results for search engine\n",
    "4. Weighting 'terms' in the document."
   ]
  },
  {
   "cell_type": "markdown",
   "metadata": {},
   "source": [
    "### Inverse Document Frequency (IDF): \n",
    "It gives the importance to more relevant/significant term in the document. It tries to lower the weights to terms having less importance. And, rare terms will get significant weights."
   ]
  },
  {
   "cell_type": "markdown",
   "metadata": {},
   "source": [
    "### TF-IDF: \n",
    "It tries to prioritize the terms based on their occurrence and uniqueness. "
   ]
  },
  {
   "cell_type": "markdown",
   "metadata": {},
   "source": [
    "Suppose, I have two documents in my corpus and I want to give tf-idf weighting to the terms.\n",
    "#### Document I : 'Nepal is a Country'\n",
    "\n",
    "#### Document II : 'Nepal is a landlocked Country'\n"
   ]
  },
  {
   "cell_type": "markdown",
   "metadata": {},
   "source": [
    "<img src='/images/tf_1.png'>\n",
    "<img src='/images/tf_2.png'>\n",
    "<img src='/images/tf_3.png'>"
   ]
  },
  {
   "cell_type": "markdown",
   "metadata": {},
   "source": [
    "We can see that, although, term 'country' has prominent occurrence, 'tf-idf' gives priority to word 'landlocked' and it carries more information about the document.\n",
    "\n",
    "### NOTE 1 : \n",
    "These weights are eventually used for vector-space model, where each term represents the axes, and document are the vectors on that space. Since 'tf-idf' value is zero (as shown above)' this representation is very sparse.\n",
    "\n",
    "### NOTE 2 : \n",
    "Suppose, we are building a search engine system. The query is also converted into vector in vector-space model and compare with documents\n",
    "(NOTE 1) to get the similarity between them."
   ]
  },
  {
   "cell_type": "code",
   "execution_count": null,
   "metadata": {},
   "outputs": [],
   "source": []
  }
 ],
 "metadata": {
  "kernelspec": {
   "display_name": "Python 3",
   "language": "python",
   "name": "python3"
  },
  "language_info": {
   "codemirror_mode": {
    "name": "ipython",
    "version": 3
   },
   "file_extension": ".py",
   "mimetype": "text/x-python",
   "name": "python",
   "nbconvert_exporter": "python",
   "pygments_lexer": "ipython3",
   "version": "3.5.2"
  },
  "nikola": {
   "category": "",
   "date": "2019-07-29 23:30:08 UTC+05:45",
   "description": "",
   "link": "",
   "slug": "understanding-term-frequencey-and-inverse-document-frequency",
   "tags": "",
   "title": "Understanding Term Frequencey and Inverse Document Frequency",
   "type": "text"
  }
 },
 "nbformat": 4,
 "nbformat_minor": 2
}
