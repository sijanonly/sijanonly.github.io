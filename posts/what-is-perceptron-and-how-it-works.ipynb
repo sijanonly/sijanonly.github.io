{
 "cells": [
  {
   "cell_type": "markdown",
   "metadata": {},
   "source": [
    "Perceptron is simply an artificial neuron capable of solving linear classification problems. It is made up of single layer feed-forward neural network.\n",
    "\n",
    "A percentron can only takes binary input values and signals binary output for decision making.\n",
    "The output decision (either0 or 1), is based on the value of weighted sum of inputs and weights.\n",
    "\n",
    "Mathematically perceptron can be defined as :\n",
    "\n",
    " output O(n)=       \n",
    "  &nbsp; &nbsp;    &nbsp;   &nbsp; &nbsp;     &nbsp; &nbsp; &nbsp; &nbsp; &nbsp;  {\n",
    "  &nbsp;&nbsp; 0   if   ∑wixi + $\\theta$ <= 0 <br/>\n",
    " &nbsp; &nbsp;&nbsp; &nbsp; &nbsp;  &nbsp; &nbsp;   &nbsp;   &nbsp; &nbsp;    &nbsp;   &nbsp; &nbsp;               1   if   ∑wixi + $\\theta$ > 0\n",
    "             <br/>\n",
    "     &nbsp;        &nbsp; &nbsp;    &nbsp;   &nbsp; &nbsp;     &nbsp; &nbsp; &nbsp; &nbsp; &nbsp;} <br/>\n",
    "   \n",
    "   $\\theta$ = threshold / bias\n",
    "   \n",
    "   <img src='/images/perceptron.png'>"
   ]
  },
  {
   "cell_type": "markdown",
   "metadata": {},
   "source": [
    "<!-- TEASER_END -->"
   ]
  },
  {
   "cell_type": "markdown",
   "metadata": {},
   "source": [
    "#### Perceptron Learning Algorithm\n",
    "Perceptron learning is basically done by adjusting the weights and bias in training process."
   ]
  },
  {
   "cell_type": "markdown",
   "metadata": {},
   "source": [
    "Initially, we will have `training set` of input vector\n",
    "    \n",
    "    [x_1(n), x_2(n),....x_m(n) ]\n",
    "\n",
    "And, weight vetor\n",
    "\n",
    "    [w_1(n), w_2(n),....w_m(n)]\n",
    "\n",
    "And, bias = b\n",
    "\n",
    "For convenience let w0=b(n) and x0(n) = 1\n",
    "\n",
    "i.e input vector = `[1, x_1(n),x_2(n),.....x_m(n)]` <br/>\n",
    "and weight vector = `[b(n), w_1(n), w_2(n),....,w_m(n)]` <br/>\n",
    "\n",
    "\n",
    "y(n) = actual output in training <br/>\n",
    "d(n) = desired output <br/>\n",
    "η = the learning rate <br/>\n",
    "\n",
    "And, suppose, M and N are two different classes. Where output +1 belongs to M\n",
    "and -1 belongs N.\n",
    "\n",
    "learning steps:\n",
    "\n",
    "#### 1. Initialization\n",
    "   We will set initial value for weights : w(0) = 0\n",
    "\n",
    "#### 2. For number of iterations (Iternations will be your selection)\n",
    "#### a. Activation\n",
    "  We will supply (input vector, desired output) = [x(n), d(n)] to perceptron.\n",
    "#### b. Actual Response\n",
    "  For each input vector, we will calculate the actual output based on\n",
    "  \n",
    "          y(n) = sgn[w(n)x(n)]\n",
    "\n",
    "    Where sgn(.) represents signum function as following:\n",
    "\n",
    "        sgn(x) = {  +1 if x>=0\n",
    "                    -1 if x<0 }\n",
    "\n",
    "####  c. Weight adjustment :\n",
    "  We will adjust the weight vector as follows:\n",
    "\n",
    "   calculate error :\n",
    "       \n",
    "             e = d(n) - y(n) \n",
    "<br/>\n",
    "\n",
    "        w(n+1) = w(n) + eta * e * x(n)\n",
    "\n",
    "where\n",
    "\n",
    "          d(n) = { +1   if x(n) classified as M\n",
    "                 -1   if x(n) classified as N\n",
    "                 }\n"
   ]
  },
  {
   "cell_type": "code",
   "execution_count": null,
   "metadata": {},
   "outputs": [],
   "source": []
  }
 ],
 "metadata": {
  "kernelspec": {
   "display_name": "Python 3",
   "language": "python",
   "name": "python3"
  },
  "language_info": {
   "codemirror_mode": {
    "name": "ipython",
    "version": 3
   },
   "file_extension": ".py",
   "mimetype": "text/x-python",
   "name": "python",
   "nbconvert_exporter": "python",
   "pygments_lexer": "ipython3",
   "version": "3.5.2"
  },
  "nikola": {
   "category": "",
   "date": "2018-10-24 02:21:47 UTC+05:45",
   "description": "",
   "link": "",
   "slug": "what-is-perceptron-and-how-it-works",
   "tags": "perceptron",
   "title": "What is perceptron and how it works?",
   "type": "text"
  }
 },
 "nbformat": 4,
 "nbformat_minor": 2
}
