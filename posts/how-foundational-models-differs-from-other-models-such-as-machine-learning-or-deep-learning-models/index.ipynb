{
 "cells": [
  {
   "cell_type": "markdown",
   "id": "27cd7276",
   "metadata": {},
   "source": [
    "Write your post here."
   ]
  }
 ],
 "metadata": {
  "kernelspec": {
   "display_name": "Python 3 (ipykernel)",
   "env": {},
   "interrupt_mode": "signal",
   "language": "python",
   "metadata": {
    "debugger": true
   },
   "name": "python3"
  },
  "nikola": {
   "category": "",
   "date": "2025-06-08 21:01:16 UTC+05:45",
   "description": "",
   "link": "",
   "slug": "how-foundational-models-differs-from-other-models-such-as-machine-learning-or-deep-learning-models",
   "tags": "foundation-models,large-language-models,llms,transformers",
   "title": "How foundational Models differs from other models such as machine learning or deep learning models ?",
   "type": "text"
  }
 },
 "nbformat": 4,
 "nbformat_minor": 5
}
