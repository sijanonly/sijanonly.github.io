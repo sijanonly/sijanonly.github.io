{
 "cells": [
  {
   "cell_type": "markdown",
   "metadata": {},
   "source": [
    "\n",
    "<img src='/images/gradient_descent.png'>\n",
    "\n",
    "Before jumping to Gradient Descent, let's be clear about difference between backpropagation and gradient descent. Comparing things make it easier to learn !\n",
    "\n",
    "#### Backpropagation :\n",
    "Backpropagation is an efficient way of calculating gradients using chain rule.\n",
    "\n",
    "#### Gradient Descent:\n",
    "Gradient Descent is an optimization algorithm which is used in different machine learning algorithms to find parameters/combination of parameters which mimimizes the loss function.\n",
    "\n",
    "** In case of neural network, we use backpropagation to calculate the gradient of loss function w.r.t to weights. Weights are the parameters of neural network.\n",
    "\n",
    "** In case of linear regression, coefficients are the parameters!.\n",
    "\n",
    "** Many machine learning algorithms are convex problems, so using gradient descent to get extrema makes more sense. For example, if you remember the solution of linear regression :\n",
    "\n",
    "  $ \\beta = (X^T X)^{-1} X^T y  $\n",
    "  \n",
    "  Here, we can get the analytical solution by simply solving above equations. But, inverse calculation has $ O(N^3) $ complexity. It will be worst if our data size increases."
   ]
  },
  {
   "cell_type": "markdown",
   "metadata": {},
   "source": [
    "<!-- TEASER_END -->"
   ]
  },
  {
   "cell_type": "markdown",
   "metadata": {},
   "source": [
    "The algorithm has major three steps:\n",
    "\n",
    "\n",
    "1. Randomly select initial position (x) (e.g : setting initial weights/baises in neural network)\n",
    "2. Calculate derivative of the cost function (f) at that position, figuring out which direction we should move. \n",
    "3. Follow the direction, where the function is descending fastest, with small step of $ \\alpha $ (learning rate)\n",
    "\n",
    "  if $ f^{'}(x) $ > 0 . f is increasing. so we have to move x to little left.\n",
    "  \n",
    "  if $ f^{'}(x) $ < 0 . f is decreasing. so we have to move x to little right.\n",
    "  \n",
    "  NOTE : If the derivative is +ve, it means the slope is going up when you move right so you have to descent to left.\n",
    "  and if the derivative is -ve, it means the slope goes down when you move left so you need to descent to right.\n",
    "  "
   ]
  },
  {
   "cell_type": "markdown",
   "metadata": {},
   "source": [
    "So, at each position, we calcuate the derivative of the loss function to get the direction and move with a single step. But, how much is the ideal step size ? We have two different scenarios:\n",
    "\n",
    "1. If we set $\\alpha$ to small, convergence will take longer.\n",
    "2. If we set $\\alpha$ to large, algorithm might overshoot the minimum and jumps to-and-fro. So, algorithm might not be converging, in worst, it diverges from actual minimal."
   ]
  },
  {
   "cell_type": "markdown",
   "metadata": {},
   "source": [
    "Major Take-Aways\n",
    "\n",
    "1. Gradient descent is applied to minimize a function.\n",
    "2. Gradient descent will give optimal solution if the problem is convex.\n",
    "3. Using analytical solution could be computationally inefficient( e.g. linear regression), so applying Gradient descent on huge data sets is a good decision.\n",
    "\n",
    "Just curious !\n",
    "#####  Can we still use gradient descent for non-convex problem and use the solution as a starting point or approximation?"
   ]
  },
  {
   "cell_type": "code",
   "execution_count": null,
   "metadata": {},
   "outputs": [],
   "source": []
  }
 ],
 "metadata": {
  "kernelspec": {
   "display_name": "Python 3",
   "language": "python",
   "name": "python3"
  },
  "language_info": {
   "codemirror_mode": {
    "name": "ipython",
    "version": 3
   },
   "file_extension": ".py",
   "mimetype": "text/x-python",
   "name": "python",
   "nbconvert_exporter": "python",
   "pygments_lexer": "ipython3",
   "version": "3.5.2"
  },
  "nikola": {
   "category": "",
   "date": "2019-08-05 22:37:30 UTC+05:45",
   "description": "",
   "link": "",
   "slug": "intuition-behind-gradient-descent-for-machine-learning-algorithms",
   "tags": "",
   "title": "Intuition behind Gradient Descent for Machine Learning Algorithms",
   "type": "text"
  }
 },
 "nbformat": 4,
 "nbformat_minor": 2
}
