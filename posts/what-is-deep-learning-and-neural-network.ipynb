{
 "cells": [
  {
   "cell_type": "markdown",
   "metadata": {},
   "source": [
    "Deep learning, in simpler version is a learning mechanisms for Neural networks. And, Neural networks are computational model mimicing human nervous system which are capable of learning. Like interconnected neurons in human brains, the neural network is also connected by different nodes. It receives signals as a set of inputs, perform calcuations and signals output based on some activation value.\n",
    "\n",
    "<img src='/images/artificial_neuron.png'>\n",
    "\n",
    "Here are some list of problems, that deep learning can solve\n",
    "\n",
    "1. Classification : object and speech recongnistion, classify sentiments from text\n",
    "2. Clustering : Fraud detection \n",
    "\n",
    "<!-- TEASER_END -->\n",
    "\n",
    "Elements of Neural Networks\n",
    "\n",
    "1. Weights\n",
    "    Biological neurons has synaptic strengths to define the importance of particular inputs. In the similar fashion, inputs to NNs have associated relative weights. These weights ultimately defines the connection intensity of the input to any neuron. These weights are adaptive in nature since they will be modified in the process of training.\n",
    "\n",
    "2. Summation\n",
    "    This is the first step in NN, where each input is multiplied by its corresponding weight and weighted sum is computed.\n",
    "\n",
    "3.  Transfer \n",
    "    In the transfer process, we simply compare the summation output with threshold value and decide the final neural output. \n"
   ]
  },
  {
   "cell_type": "markdown",
   "metadata": {},
   "source": [
    "An example would be,\n",
    "\n",
    "    inputs\n",
    "    (x1) = 2\n",
    "    (x2) = 1\n",
    "\n",
    "    weights\n",
    "    (w1) = 0.7\n",
    "    (w2) = 0.8\n",
    "\n",
    "    threshold = 2\n",
    "\n",
    "Summation value : \n",
    "    \n",
    "     x1w1 + x2w2 = (2 x 0.7) + (1 x 0.8) = 2.2\n",
    "\n",
    "Since summation value is greather than threshold, neuron will be fired.\n",
    "\n",
    "\n"
   ]
  },
  {
   "cell_type": "code",
   "execution_count": null,
   "metadata": {},
   "outputs": [],
   "source": []
  }
 ],
 "metadata": {
  "kernelspec": {
   "display_name": "Python 3",
   "language": "python",
   "name": "python3"
  },
  "language_info": {
   "codemirror_mode": {
    "name": "ipython",
    "version": 3
   },
   "file_extension": ".py",
   "mimetype": "text/x-python",
   "name": "python",
   "nbconvert_exporter": "python",
   "pygments_lexer": "ipython3",
   "version": "3.5.2"
  },
  "nikola": {
   "category": "",
   "date": "2018-10-24 02:05:00 UTC+05:45",
   "description": "",
   "link": "",
   "slug": "what-is-deep-learning-and-neural-network",
   "tags": "deep learning, neural network",
   "title": "What is Deep Learning and Neural Network?",
   "type": "text"
  }
 },
 "nbformat": 4,
 "nbformat_minor": 2
}
