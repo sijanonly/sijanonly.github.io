{
 "cells": [
  {
   "cell_type": "markdown",
   "metadata": {},
   "source": [
    "Network has been taken as a tool for describing complex systems or interactions around us. Few prominent complex systems are: \n",
    "\n",
    "\n",
    "  1. Our society where almost 7 billions individuals exist/ and the interactions between them in one or other ways.\n",
    " \n",
    "  2. Genes in our body, interactions between gene molecules ( Protein-Protein interaction networks)"
   ]
  },
  {
   "cell_type": "markdown",
   "metadata": {},
   "source": [
    "Peoply usually visualize the network to see cluter/ densely linked clusters and try to analyze, predict relation between nodes, figure out similarity between nodes in the network."
   ]
  },
  {
   "cell_type": "markdown",
   "metadata": {},
   "source": [
    "Figuring out the central nodes/vertices is also an important network analysis process because centrality measures :\n",
    "\n",
    "            a. Existing influence of a node on other nodes\n",
    "            b. Information flow in and out from a node or towards it\n",
    "            c. Finding node/s which is/are acting as bridge between two different/big groups"
   ]
  },
  {
   "cell_type": "markdown",
   "metadata": {},
   "source": [
    "<!-- TEASER_END -->"
   ]
  },
  {
   "cell_type": "markdown",
   "metadata": {},
   "source": [
    "Let's talk about few important centrality measures:\n",
    "\n",
    "\n",
    "A. Degree Centrality :\n",
    "\n",
    "   Degree centrality is considered as a local measure which captures the direct influence of a node and its access to first hand information in the network.\n",
    "   \n",
    "Algorithm for calculationg degree centrality:\n",
    "\n",
    "              i. Rank all vertices based on their degree values\n",
    "              ii. Highest degree vertex will be considered as central one.\n",
    "              \n",
    "              \n",
    " \n",
    " For a directed graph, we can divide this measure into two:\n",
    " \n",
    "          a) Indegree centrality : It can measured by counting number of edges going into a vertex. A node having highest indegree cenrality can be seen as 'popular node .i.e having many followers.\n",
    "          \n",
    "          b) Outdegree centrality : It can measured by counting number of edges leaving a vertex. And a node with highest outdegree centrality can be seen as more social node i.e having good reach.\n",
    "          \n",
    "          \n",
    "B. Closeness Centrality : \n",
    "\n",
    "   Closeness centrality says that important nodes are always stay close to other nodes. It can been as a measure of time to spread a message/information from a node to other nodes sequentially. It is calculated based on sum of the length of the shortest paths from a node to all other nodes.\n",
    "   \n",
    "Algorithm for calculating closeness centrality:\n",
    "\n",
    "               i. Calculate the shortest paths between a node to other nodes.\n",
    "               ii. Sum those distance values and take the reciprocal\n",
    "               iii. Repeat (i), (ii) for all nodes.\n",
    "               \n",
    "   Since the sum of shortest paths between nodes u and v will be low if these two nodes are more central and will be high if those are less central, which is opposite to other centrality measures ( for Degree centrality: higher value signify higher centrality). Therefore, it is taken as inverse measure.\n",
    "               \n",
    "   so, closeness centrality of a node 'v', closeness(v) =   $  \\frac{n-1}{\\sum_{u=1}^{n-1}d(u,v)} $\n",
    "   \n",
    "   \n",
    "   \n",
    "   where d(u,v) is the geodesic path = shortest path through a network between two vertices u and v.\n",
    "   \n",
    "   NOTE : path from v to u is the number of edges along that path.\n",
    "   \n",
    "   <img src='/images/closeness.png'>\n",
    "\n",
    "\n",
    "C. Betweenness Centrality\n",
    "\n",
    "Betweenness centrality measures the bridgeness of node. It says that 'central nodes are those which act as bridge nodes'. We can calculate the number of times a node acts as bridge along the shortest path between two nodes.\n",
    "\n",
    "\n",
    "Betweenness centrality of a node 'v' is betw(v) = $ \\sum_{s,t \\ne v}  \\frac{\\delta_{st}(v)}{del_{st}}   $\n",
    "\n",
    "\n",
    "Where :\n",
    "\n",
    " $ \\delta_{st}(v) $ : The number of shortest paths between s and t via v.\n",
    "\n",
    " and $ \\delta_{st} $ : The number of shortest paths between s ant t."
   ]
  },
  {
   "cell_type": "code",
   "execution_count": null,
   "metadata": {},
   "outputs": [],
   "source": []
  }
 ],
 "metadata": {
  "kernelspec": {
   "display_name": "Python 3",
   "language": "python",
   "name": "python3"
  },
  "language_info": {
   "codemirror_mode": {
    "name": "ipython",
    "version": 3
   },
   "file_extension": ".py",
   "mimetype": "text/x-python",
   "name": "python",
   "nbconvert_exporter": "python",
   "pygments_lexer": "ipython3",
   "version": "3.5.2"
  },
  "nikola": {
   "category": "",
   "date": "2019-07-31 23:26:36 UTC+05:45",
   "description": "",
   "link": "",
   "slug": "interpreting-centrality-measures-for-network-analysis",
   "tags": "",
   "title": "Interpreting Centrality Measures for Network Analysis",
   "type": "text"
  }
 },
 "nbformat": 4,
 "nbformat_minor": 2
}
