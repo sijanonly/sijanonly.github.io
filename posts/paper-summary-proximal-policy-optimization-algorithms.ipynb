{
 "cells": [
  {
   "cell_type": "markdown",
   "metadata": {},
   "source": [
    "Summary of the paper [\"Proximal Policy Optimization Algorithms\"](https://arxiv.org/abs/1707.06347)"
   ]
  },
  {
   "cell_type": "markdown",
   "metadata": {},
   "source": [
    "#### Motivation\n",
    "\n",
    "Deep Q learning, 'Vanilla' Policy Gradient, REINFORCE are the examples of approaches for function approximation in RL. When it comes to RL, robustness and sample efficiency are the measures that defines effectivenss of the applied algorithm.\n",
    "\n",
    "In RL formulation, the agent needs to solve a task/problem in an envronment. Agent countinously interacts with the environment, which provides rewards to the agent, and thereafter agent learns a policy to navigate and tackle the problem. In every time step, RL agent has to make a decision by selecting preferrable action. To do so, agent fully relies on the information of current state and accumulated knowledge (history of rewards) up to current time step. Once the action is performed, the next state/observation is defined by some (stochastic) transition probability model. Also, reward will be signaled to the agent based on this new state information and performed action to get there. In overall, the goal of the agent is to maximize expected cumulative rewards.\n",
    "\n",
    "In terms of RL, this goal can be formulated as finding a policy $ \\pi (a_t | s_t) $ such that expected reward $ \\mathbb{E_{\\pi_{\\theta, \\tau}}} [G_t] $ is maximized.\n",
    "\n",
    "In high dimensional/ countinous action space, policy gradient method can be used to solve this problem. In \"vanilla\" policy gradient method, the policy is parameterized by some parameter $ \\theta $ .i.e parametric policy  $ \\pi_{\\theta} (a_t | s_t) $ and we directly optimize the policy by finding the optimal parameter $ \\theta $.\n",
    "\n",
    " Even though 'Vanilla' policy gradient/ REINFORCE are simple/easier to implement, they come with some learning issues:\n",
    "\n",
    " PROBLEM : Usually give rise to high variance while estimating gradient. This is because, the objective function\n",
    " \n",
    "  $ J(\\theta) =  \\mathbb{E_{\\pi_{\\theta, \\tau}}} (G_t) $\n",
    "  \n",
    "  contains expectation; so we can't directly compute the exact gradient. We use stochatic gradient estimates such as REINFORCE based on some batch of trajectories. This sampling approximation adds some variance. That means, we need large number of trajectories to get the best estimation.\n",
    "In addition, we can see that collecting trajectories could be a problem in complex environments-might take long time to run.\n"
   ]
  },
  {
   "cell_type": "markdown",
   "metadata": {},
   "source": [
    "#### Contribution\n",
    "\n",
    "Authors have introduced a family of policy optimization methods which is build up on the basis of work of Trust-Region Policy optimization. Two main ideas:\n",
    "\n",
    "a. Clipped Surrogate Objective Function : It avoids large deviations of learned policy $ \\pi_{\\theta} $ from old policy $ \\pi_{\\theta old} $; which is formulated as:\n",
    "\n",
    "  $ L^{clip}(\\theta) = \\mathbb{E}_t [ min (r_t (\\theta) \\hat{A_t}, clip(r_t(\\theta), 1 - \\epsilon, 1 + \\epsilon) \\hat{A_t}) ] $\n",
    "  \n",
    "  Here $ r_t(\\theta) = \\frac{\\pi_{\\theta}(a_t | s_t)}{\\pi_{\\theta old}(a_t | s_t)} $\n",
    "  \n",
    " \n",
    " $ \\epsilon $ is hyperparameter, which restricts the new policy from being too far from old policy. \n",
    " $ \\hat{A_t} $ can be discounted return or advantage function.\n",
    " \n",
    " The clipping ensures the updates take place in \"trust-region\". Also, introduces less variance than vanilla gradient methods\n",
    " \n",
    "b. Multiple Epochs for policy update:\n",
    "\n",
    "PPO allows to run multiple epochs on the same trajectories and optimize the objective $ L^{clip}(\\theta) $. This also reduces the sample inefficieny while learning. In order to collect data, PPO runs policy with parallel actors and then samples mini-batches of the data for training k-epochs using the objective function above.\n",
    "\n",
    "\n",
    "Let's observe the behaviour of the objective function based on changes in advantage function.\n",
    "\n",
    "CASE I : When $ \\hat{A_t} $ is +ve : \n",
    "\n",
    "The objective function can be written as :\n",
    "\n",
    " $ L^{clip} (\\theta) = min ( r_t(\\theta), 1 + \\epsilon ) \\hat{A_t} $\n",
    " \n",
    " Since $\\hat{A_t} $ is +ve, when the action occurrence likelihood increases (i.e. $ \\pi_{\\theta}(a_t | s_t) $), the whole objective value will also increase.\n",
    " The min operator limits the increasing objective value. So, when  $ \\pi_{\\theta}(a_t | s_t) ) > (1 + \\epsilon) \\pi_{\\theta old}(a_t | s_t)  $, ceiling occurs at $ (1 + \\epsilon) \\hat{A_t} $\n",
    " \n",
    " \n",
    "CASE II : When $ \\hat{A_t} $ is -ve : \n",
    "\n",
    "The objective function can be written as :\n",
    "\n",
    " $ L^{clip} (\\theta) = max ( r_t(\\theta), 1 - \\epsilon ) \\hat{A_t} $\n",
    " \n",
    "Now, the objective function value only increases when the likelihood of the action is less likely (i.e. $ if \\pi_{\\theta}(a_t | s_t) $ decreases, $ L^{clip} (\\theta) $ increases )\n",
    "In this case, when $  (1 - \\epsilon) \\pi_{\\theta old}(a_t | s_t) > \\pi_{\\theta}(a_t | s_t) )   $, max operator limits the value at $ (1 - \\epsilon) \\pi_{\\theta old}(a_t | s_t) \\hat{A_t} $"
   ]
  },
  {
   "cell_type": "code",
   "execution_count": null,
   "metadata": {},
   "outputs": [],
   "source": []
  }
 ],
 "metadata": {
  "kernelspec": {
   "display_name": "Python 3",
   "language": "python",
   "name": "python3"
  },
  "language_info": {
   "codemirror_mode": {
    "name": "ipython",
    "version": 3
   },
   "file_extension": ".py",
   "mimetype": "text/x-python",
   "name": "python",
   "nbconvert_exporter": "python",
   "pygments_lexer": "ipython3",
   "version": "3.5.2"
  },
  "nikola": {
   "category": "",
   "date": "2020-10-31 22:22:42 UTC+05:45",
   "description": "",
   "link": "",
   "slug": "paper-summary-proximal-policy-optimization-algorithms",
   "tags": "",
   "title": "Paper Summary : Proximal Policy Optimization Algorithms",
   "type": "text"
  }
 },
 "nbformat": 4,
 "nbformat_minor": 2
}
