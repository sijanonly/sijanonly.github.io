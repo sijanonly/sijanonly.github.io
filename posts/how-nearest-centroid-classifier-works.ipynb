{
 "cells": [
  {
   "cell_type": "markdown",
   "metadata": {},
   "source": [
    "The Nearest centroid classifier (NCC) says that we should classify a data point to a class whose centroid is closest to this data point."
   ]
  },
  {
   "cell_type": "markdown",
   "metadata": {},
   "source": [
    "The algorithms follows:\n",
    "\n",
    "Suppose $ c_l $ represents the set of indices which belong to class `l`. And n = |$c_l$|\n",
    "\n",
    "\n",
    " #### 1.Training step : \n",
    " \n",
    " We compute the centroids(CTs) for each of the classes as:\n",
    " \n",
    "  $CT_l$  = $ \\frac{1}{n}  \\sum_{i \\in c_l} x_i $\n",
    "  \n",
    "  \n",
    "#### 2.Prediction step : \n",
    "\n",
    " a. Given a new data point $x_{new}$, compute the distance between $x_{new}$ and each centroids as\n",
    "    \n",
    "  `distance` : $|| x_{new} - $CT_l$||_2$   (Euclidean distance)\n",
    "  \n",
    " b. Assign the class to this new point which has minimum `distance` value."
   ]
  },
  {
   "cell_type": "markdown",
   "metadata": {},
   "source": [
    "Let us taken an example. We have to classify fruits into two classes : Apple and Orange, based on their height and width. \n",
    "\n",
    "Our inputs (x) are :\n",
    "\n",
    "`x1=[5,6], x2=[5,7],  x3=[4,3], x4=[5,7], x5=[6,4]` and corrresponding labels (y) are\n",
    "\n",
    "`𝑦1='AP'  𝑦2='AP'   𝑦3='AP'  𝑦4='ORG'  𝑦5='ORG' `\n",
    "\n",
    "Here $x_i$ = [width, height] , 'AP' = 'Apple', 'ORG' = 'Orange'.\n",
    "\n",
    "\n",
    "Now, centroids for two classes are :\n",
    "\n",
    "$ CT_{AP} $ = $ \\frac{1}{3} (5 + 5 + 4, 6 + 7 + 3) $ = ($\\frac{14}{3}, \\frac{16}{3} $) \n",
    "\n",
    "$ CT_{ORG} $ = $ \\frac{1}{2} (5 + 6, 7 + 4) $ = ($\\frac{11}{2}, \\frac{11}{2} $)\n",
    "\n",
    "\n",
    "Suppose, you got a new test data point  : (3, 7) i.e $x_{new}$, and you want to classify this point. We can calculate the distance between new point and our centroids as:\n",
    "\n",
    "$ ||x_{new} - CT_{AP} || $ = || (3,7) - ($\\frac{14}{3}, \\frac{16}{3} $) || = 2.357\n",
    "\n",
    "$ ||x_{new} - CT_{ORG} || $ = || (3,7) - ($\\frac{11}{2}, \\frac{11}{2} $) || = 2.915\n",
    "\n",
    "\n",
    "Here, the new data point is classified as 'Apple' as the new data point is closest to the centroid of data points that belong to class 'Apple'"
   ]
  },
  {
   "cell_type": "code",
   "execution_count": null,
   "metadata": {},
   "outputs": [],
   "source": []
  }
 ],
 "metadata": {
  "kernelspec": {
   "display_name": "Python 3",
   "language": "python",
   "name": "python3"
  },
  "language_info": {
   "codemirror_mode": {
    "name": "ipython",
    "version": 3
   },
   "file_extension": ".py",
   "mimetype": "text/x-python",
   "name": "python",
   "nbconvert_exporter": "python",
   "pygments_lexer": "ipython3",
   "version": "3.5.2"
  },
  "nikola": {
   "category": "",
   "date": "2019-05-19 20:03:11 UTC+05:45",
   "description": "",
   "link": "",
   "slug": "how-nearest-centroid-classifier-works",
   "tags": "",
   "title": "How Nearest Centroid Classifier works?",
   "type": "text"
  }
 },
 "nbformat": 4,
 "nbformat_minor": 2
}
