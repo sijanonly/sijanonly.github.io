{
 "cells": [
  {
   "cell_type": "markdown",
   "metadata": {},
   "source": [
    "Randomness is not a property of a phenomenon. It is simply an unpredectability of occurence of events around you.  It occurs in different scenarios of our life. For example, while roaming around street, you found a coin; now you would certainly look for other coin around that spot. But, there will be not any certainty or possibility or pattern of finding one. Other examples are - tossing coin / dice, fluctuating market prices for common goods.\n",
    "\n",
    "In the field of Mathematics and probability, we assign some numerical value for identifying each of this random outcome. i.e. we use probability to quantify randomness. And, probability of certain event is calculated by the relative frequency of that event in the experiment.\n",
    "\n",
    "\n",
    "In probability, the current occurrence / selection you do for your experiment is an event. For example,fliping a coin is an event.And, the act of tossing the coin is called independent trail. If you do number of trails, it is called an experiment. And, all the possible outcomes of an experiment is called sample space. So, we can say that an event is also a subset of sample space.\n",
    "\n",
    "Another example : Suppose you need to choose a point from an interval (10, 100). Your selection E = (12, 34) is an event.\n"
   ]
  },
  {
   "cell_type": "markdown",
   "metadata": {},
   "source": [
    "<!-- TEASER_END -->"
   ]
  },
  {
   "cell_type": "markdown",
   "metadata": {},
   "source": [
    "### Disjoint and Independent Event"
   ]
  },
  {
   "cell_type": "markdown",
   "metadata": {},
   "source": [
    "Disjoint event means if an event occurs than other events can't occur simultaneously. That means joint probabilit will be zero P(A and B) = 0.\n",
    "We can say that disjoint events are very dependent. That is : when an event occurs with certain probability, then other event will have zero chance of occurrence.\n",
    "For example: when tossing a coin, the result can either be heads or tails but cannot be both.\n",
    "\n",
    "On the other hand, independent events are those where occurrence of one does not affect the occurence of another event. For example: when tossing two coins, the result of one flip does not affect the result of the other.\n",
    "           \n",
    "           conditions for independence\n",
    "              P(A and B) = P(A)×P(B)\n",
    "              P(A, given that B occurs) = P(A)\n"
   ]
  },
  {
   "cell_type": "markdown",
   "metadata": {},
   "source": [
    "### Joint and Marginal Probability"
   ]
  },
  {
   "cell_type": "markdown",
   "metadata": {},
   "source": [
    "Joint probability measure the probability that two events will occur simultaneously and marginal probability is the probability of single event.\n",
    "\n",
    "<img src='/images/joint_marginal_prob.png'>"
   ]
  },
  {
   "cell_type": "markdown",
   "metadata": {},
   "source": [
    "Joint probability is expressed as :P(A1,A2 ...,An) ; where A1, A2...An are the events.\n",
    "\n",
    "Let us take an example:\n",
    "\n",
    "P(life expectancy=70, nationality=Nepal) = 0.5 means there is 0.5 chances of a person, picked from a population, is a Nepali and has the life expectancy of 70 years."
   ]
  },
  {
   "cell_type": "markdown",
   "metadata": {},
   "source": [
    "### Conditional Probability"
   ]
  },
  {
   "cell_type": "markdown",
   "metadata": {},
   "source": [
    "Formally, conditional probability can be defined as the probability of an event (A); given the probability of another event (B).\n",
    "\n",
    "Mathematically, it is denoted as P(A | B).\n",
    "\n",
    "       P(A | B) = P(A and B) / P(B)   ; P(A and B) - joint probability of A and B."
   ]
  },
  {
   "cell_type": "markdown",
   "metadata": {},
   "source": [
    "Let us take an example : \n",
    "\n",
    "Consider that a student has an 70% chance of being accepted in a university, only 40% of all of the accepted students will get the student residence offer. \n",
    "Then the chance of student getting accepted and receiving student residence offer is defined by\n",
    "\n",
    "    P(Accepted and Student resi.) = P(Student resi.|Accepted)P(Accepted)\n",
    "                                   = (0.40)*(0.70) = 0.28 "
   ]
  },
  {
   "cell_type": "markdown",
   "metadata": {},
   "source": [
    "### Bayes' Law"
   ]
  },
  {
   "cell_type": "markdown",
   "metadata": {},
   "source": [
    "\n",
    "Let us suppose that we have a prior knowledge of a probability for a disease D to occurs when there is a symptom S P(S|D); and the probability of having disease D P(D); the probability of having symptom S P(S). If we have all these three information; we can calculate the probability of occurrence of disease D; given that the person has symptom S i.e P(D|S).\n",
    "\n",
    "\n",
    "By using joint probability,\n",
    "        \n",
    "         P(A and B) = P(A|B) * P(A) = P(B|A) * P(B)\n",
    "         \n",
    "         Which leads to\n",
    "\n",
    "          P(A|B) =  P(A)   *   P(B|A) / P(B)\n",
    "                (prior prob.)   (Posterior prob.)\n",
    "                \n",
    "                \n",
    "           or\n",
    "           \n",
    "           \n",
    "           P(B|A) =P(A|B)P(B) / [P(A|B)P(B) + P(A|B′)P(B′)]\n",
    "           \n",
    "           P(B′) is the probability of B not occurring."
   ]
  },
  {
   "cell_type": "markdown",
   "metadata": {},
   "source": [
    "Example:\n",
    "\n",
    "Suppose it has been observed empirically that the word “Congratulations” occurs in 1 out of 10 spam emails, but that “Congratulations” only occurs in 1 out of 1000 non-spam emails. Suppose it has also been observed empirically that about 4 out of 10 emails are spam. Suppose we get a new email that contains “Congratulations”.Then, what is the probability of this email being a spam?\n",
    "\n",
    "Ans : \n",
    "Let C be the event representing emails having word 'Congratulations' and S be the event saying the email is spam. \n",
    "\n",
    "Now, we need to calculate : P ( S | C ) ?\n",
    "\n",
    "Here \n",
    "\n",
    "     P(C|S) ~= 1/10\n",
    "     P(C|S') ~= 1/1000\n",
    "     P(S) ~= 4/10\n",
    "     P(S') ~= 6/10\n",
    "     \n",
    "By Bayes’ Theorem: P(S|C) = P(C|S )P(S) / [P(C|S )P(S) + P(C|S')P(S')]\n",
    "                         \n",
    "                          = (1/10) (4/10) / [ 1/10 * 4/10 + 1/1000 * 6/10]\n",
    "                          = 0.985"
   ]
  },
  {
   "cell_type": "code",
   "execution_count": null,
   "metadata": {},
   "outputs": [],
   "source": []
  }
 ],
 "metadata": {
  "kernelspec": {
   "display_name": "Python 3",
   "language": "python",
   "name": "python3"
  },
  "language_info": {
   "codemirror_mode": {
    "name": "ipython",
    "version": 3
   },
   "file_extension": ".py",
   "mimetype": "text/x-python",
   "name": "python",
   "nbconvert_exporter": "python",
   "pygments_lexer": "ipython3",
   "version": "3.5.2"
  },
  "nikola": {
   "category": "",
   "date": "2018-11-04 21:23:45 UTC+05:45",
   "description": "",
   "link": "",
   "slug": "understanding-probability",
   "tags": "",
   "title": "Understanding Probability",
   "type": "text"
  }
 },
 "nbformat": 4,
 "nbformat_minor": 2
}
