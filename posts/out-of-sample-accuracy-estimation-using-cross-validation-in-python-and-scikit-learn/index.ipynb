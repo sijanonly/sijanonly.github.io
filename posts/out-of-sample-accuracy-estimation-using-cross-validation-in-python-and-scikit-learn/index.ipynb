{
 "cells": [
  {
   "cell_type": "markdown",
   "metadata": {},
   "source": [
    "In this post, we will be continuing from our previous post:\n",
    "\n",
    " > [K-Nearest Neighbors Algorithm using Python and Scikit-Learn?](http://sijanb.com.np/posts/k-nearest-neighbors-algorithm-using-python-and-scikit-learn/)\n",
    " "
   ]
  },
  {
   "cell_type": "markdown",
   "metadata": {},
   "source": [
    "Before starting with the implementation, let's discuss few important points in cross validation.\n",
    "\n",
    "> 1. Using Cross validation (CV), we splits our dataset into k folds (k generally setup by developer)\n",
    "> 2. Once you created k folds, you use each of the folds as test set during run and all remaining folds as train set.\n",
    "> 3. With cross validation, one can assess the average model performance (this post) or also for the hyperparameters selection (for example : selecting optimal neighbors size(k) in kNN) or selecting good feature\n",
    "combinations from given data features."
   ]
  },
  {
   "cell_type": "code",
   "execution_count": 1,
   "metadata": {},
   "outputs": [],
   "source": [
    "import math\n",
    "from collections import Counter\n",
    "import numpy as np\n",
    "import pandas as pd\n",
    "import matplotlib.pyplot as plt\n",
    "\n",
    "%matplotlib inline\n",
    "\n",
    "# making results reproducible\n",
    "np.random.seed(42)"
   ]
  },
  {
   "cell_type": "code",
   "execution_count": 2,
   "metadata": {},
   "outputs": [
    {
     "data": {
      "text/html": [
       "<div>\n",
       "<style scoped>\n",
       "    .dataframe tbody tr th:only-of-type {\n",
       "        vertical-align: middle;\n",
       "    }\n",
       "\n",
       "    .dataframe tbody tr th {\n",
       "        vertical-align: top;\n",
       "    }\n",
       "\n",
       "    .dataframe thead th {\n",
       "        text-align: right;\n",
       "    }\n",
       "</style>\n",
       "<table border=\"1\" class=\"dataframe\">\n",
       "  <thead>\n",
       "    <tr style=\"text-align: right;\">\n",
       "      <th></th>\n",
       "      <th>CLASS</th>\n",
       "      <th>ALCOHOL_LEVEL</th>\n",
       "      <th>MALIC_ACID</th>\n",
       "    </tr>\n",
       "  </thead>\n",
       "  <tbody>\n",
       "    <tr>\n",
       "      <th>0</th>\n",
       "      <td>1</td>\n",
       "      <td>14.23</td>\n",
       "      <td>1.71</td>\n",
       "    </tr>\n",
       "    <tr>\n",
       "      <th>1</th>\n",
       "      <td>1</td>\n",
       "      <td>13.20</td>\n",
       "      <td>1.78</td>\n",
       "    </tr>\n",
       "    <tr>\n",
       "      <th>2</th>\n",
       "      <td>1</td>\n",
       "      <td>13.16</td>\n",
       "      <td>2.36</td>\n",
       "    </tr>\n",
       "    <tr>\n",
       "      <th>3</th>\n",
       "      <td>1</td>\n",
       "      <td>14.37</td>\n",
       "      <td>1.95</td>\n",
       "    </tr>\n",
       "    <tr>\n",
       "      <th>4</th>\n",
       "      <td>1</td>\n",
       "      <td>13.24</td>\n",
       "      <td>2.59</td>\n",
       "    </tr>\n",
       "  </tbody>\n",
       "</table>\n",
       "</div>"
      ],
      "text/plain": [
       "   CLASS  ALCOHOL_LEVEL  MALIC_ACID\n",
       "0      1          14.23        1.71\n",
       "1      1          13.20        1.78\n",
       "2      1          13.16        2.36\n",
       "3      1          14.37        1.95\n",
       "4      1          13.24        2.59"
      ]
     },
     "execution_count": 2,
     "metadata": {},
     "output_type": "execute_result"
    }
   ],
   "source": [
    "df = pd.read_csv(\n",
    "    'https://archive.ics.uci.edu/ml/machine-learning-databases/wine/wine.data', header=None, sep=',')\n",
    "\n",
    "df.columns = ['CLASS', 'ALCOHOL_LEVEL', 'MALIC_ACID', 'ASH', 'ALCALINITY','MAGNESIUM', 'PHENOLS', \n",
    "              'FLAVANOIDS', 'NON_FLAVANOID_PHENOL', 'PROANTHOCYANINS', 'COLOR_INTENSITY', \n",
    "              'HUE', 'OD280/OD315_DILUTED','PROLINE']\n",
    "\n",
    "# Let us use only two features : 'ALCOHOL_LEVEL', 'MALIC_ACID' for this problem\n",
    "df = df[['CLASS', 'ALCOHOL_LEVEL', 'MALIC_ACID']]\n",
    "df.head()"
   ]
  },
  {
   "cell_type": "markdown",
   "metadata": {},
   "source": [
    "### 1. Cross  validation using Python from Scratch"
   ]
  },
  {
   "cell_type": "markdown",
   "metadata": {},
   "source": [
    "<!-- TEASER_END -->"
   ]
  },
  {
   "cell_type": "code",
   "execution_count": 3,
   "metadata": {},
   "outputs": [],
   "source": [
    "class KNN:\n",
    "    def __init__(self, K):\n",
    "        self.K = K\n",
    "        self.X_train = None\n",
    "        self.y_train = None\n",
    "        \n",
    "    def fit(self, X_train, y_train):\n",
    "        self.X_train = X_train\n",
    "        self.y_train = y_train\n",
    "    \n",
    "    def predict_instance(self, test_instance):\n",
    "        inputs = self.X_train.copy()\n",
    "        # calculate L2 norm between all training points and given test_point\n",
    "        inputs['distance'] = np.linalg.norm(inputs.values-test_instance.values, axis=1)\n",
    "        \n",
    "        # concatenate inputs and labels before sorting the distances\n",
    "        inputs = pd.concat([inputs, self.y_train], axis=1)\n",
    "\n",
    "        # sort based on distance\n",
    "        inputs = inputs.sort_values('distance', ascending=True)\n",
    "\n",
    "        # pick k neighbors\n",
    "        neighbors = inputs.head(self.K)\n",
    "\n",
    "        # get list from dataframe column\n",
    "        classes = neighbors['CLASS'].tolist()\n",
    "\n",
    "        # create counter of labels\n",
    "        majority_count = Counter(classes)\n",
    "        \n",
    "        return majority_count.most_common(1).pop()[0]\n",
    "        \n",
    "        \n",
    "    def predict(self, X_test):\n",
    "        predictions = np.zeros(X_test.shape[0])\n",
    "        # we want out index to be start from 0\n",
    "        X_test.reset_index(drop=True, inplace=True)\n",
    "        for index, row in X_test.iterrows():\n",
    "            predictions[index] = self.predict_instance(row)\n",
    "        return predictions\n",
    "\n",
    "def cross_validation(n, k, data, n_neighbors):\n",
    "    \"\"\"\n",
    "    n : # iterations\n",
    "    k : k-fold size\n",
    "    data: training data\n",
    "    n_neighbors: k in knn\n",
    "    \"\"\"\n",
    "    accuracies = []\n",
    "    \n",
    "    for _ in range(0, n):\n",
    "        # data shuffle\n",
    "        np.random.shuffle(data.values)\n",
    "        \n",
    "        fold=int(data.shape[0]/k)\n",
    "        \n",
    "        for j in range(k):\n",
    "            test = data[j*fold:j*fold+fold]\n",
    "            train = data[~data.index.isin(test.index)]\n",
    "            X_train, y_train = train.drop('CLASS', axis=1), train['CLASS']\n",
    "            X_test, y_test = test.drop('CLASS', axis=1), test['CLASS']\n",
    "            \n",
    "            knn = KNN(n_neighbors)\n",
    "            knn.fit(X_train, y_train)\n",
    "            \n",
    "            predictions = knn.predict(X_test)\n",
    "            true_values = y_test.to_numpy()\n",
    "            accuracy = np.mean(predictions == true_values)\n",
    "            \n",
    "            accuracies.append(accuracy)\n",
    "    return sum(accuracies)/len(accuracies)"
   ]
  },
  {
   "cell_type": "code",
   "execution_count": 4,
   "metadata": {},
   "outputs": [
    {
     "data": {
      "text/plain": [
       "0.7588235294117647"
      ]
     },
     "execution_count": 4,
     "metadata": {},
     "output_type": "execute_result"
    }
   ],
   "source": [
    "cross_validation(1, 10, df, 5)"
   ]
  },
  {
   "cell_type": "markdown",
   "metadata": {},
   "source": [
    "### 2 Cross validation using Scikit-Learn"
   ]
  },
  {
   "cell_type": "code",
   "execution_count": 5,
   "metadata": {},
   "outputs": [],
   "source": [
    "from sklearn.neighbors import KNeighborsClassifier\n",
    "from sklearn.model_selection import cross_val_score"
   ]
  },
  {
   "cell_type": "code",
   "execution_count": 6,
   "metadata": {},
   "outputs": [
    {
     "data": {
      "text/plain": [
       "array([0.73684211, 0.72222222, 0.88888889, 0.72222222, 0.83333333,\n",
       "       0.83333333, 0.88888889, 0.83333333, 0.70588235, 0.625     ])"
      ]
     },
     "execution_count": 6,
     "metadata": {},
     "output_type": "execute_result"
    }
   ],
   "source": [
    "\n",
    "knn_sklearn = KNeighborsClassifier(n_neighbors=3)\n",
    "\n",
    "X, y = df.drop('CLASS', axis=1), df['CLASS']\n",
    "\n",
    "scores = cross_val_score(knn_sklearn, X, y, cv=10, scoring='accuracy')\n",
    "scores"
   ]
  },
  {
   "cell_type": "code",
   "execution_count": 7,
   "metadata": {},
   "outputs": [
    {
     "data": {
      "text/plain": [
       "0.7789946680426557"
      ]
     },
     "execution_count": 7,
     "metadata": {},
     "output_type": "execute_result"
    }
   ],
   "source": [
    "# We use average accuracy as an estimate of out-of-sample accuracy\n",
    "scores.mean()"
   ]
  },
  {
   "cell_type": "code",
   "execution_count": null,
   "metadata": {},
   "outputs": [],
   "source": []
  }
 ],
 "metadata": {
  "kernelspec": {
   "display_name": "Python 3",
   "language": "python",
   "name": "python3"
  },
  "language_info": {
   "codemirror_mode": {
    "name": "ipython",
    "version": 3
   },
   "file_extension": ".py",
   "mimetype": "text/x-python",
   "name": "python",
   "nbconvert_exporter": "python",
   "pygments_lexer": "ipython3",
   "version": "3.5.2"
  },
  "nikola": {
   "category": "",
   "date": "2020-05-09 14:34:17 UTC+05:45",
   "description": "In this post, we will apply cross validation to estimate out-of-sample model accuracy for kNN",
   "link": "",
   "slug": "out-of-sample-accuracy-estimation-using-cross-validation-in-python-and-scikit-learn",
   "tags": "kNN, cross-validation, machine-learning",
   "title": "Out-of-sample accuracy estimation using Cross validation in python and scikit-learn",
   "type": "text"
  }
 },
 "nbformat": 4,
 "nbformat_minor": 2
}
