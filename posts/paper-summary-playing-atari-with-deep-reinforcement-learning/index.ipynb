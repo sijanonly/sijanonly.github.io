{
 "cells": [
  {
   "cell_type": "markdown",
   "metadata": {},
   "source": [
    "Summary of the paper [\"Playing Atari with Deep Reinforcement Learning\"](https://www.cs.toronto.edu/~vmnih/docs/dqn.pdf)"
   ]
  },
  {
   "cell_type": "markdown",
   "metadata": {},
   "source": [
    "#### Motivation \n",
    "\n",
    "Deep Learning (DL) has proven to work well when we have large amount of data. Unline supervised DL algorithm setup, Reinforcement Learning (RL) doesn't have direct access to the targets/labels. RL agent usually get \"delayed and sparsed\" rewards as a signal to understand about the environment and learn policy for a given environment.\n",
    "Another challenge is about the distribution of the inputs. In supervised learning, each batch in training loop is drawn randomly which make sure each inputs/samples are independent and the parameter updates won't overfit to some specific direction/class in the data. In case of RL, inputs are usually correlated. For example, when you collect image inputs/frames of video of games, their pixel positions won't change much. Therefore, many samples will look alike and this might lead to poor learning and local optimal solution. Another problem is the non-stationarity of the target. The target will be changing throughout the episodes when the agent learns new behaviour from the environment, or adopting well."
   ]
  },
  {
   "cell_type": "markdown",
   "metadata": {},
   "source": [
    "#### Contribution\n",
    "\n",
    "Authors proposed 'Deep Q Network' (DQN) learning algorithm with experience replay. This approach solves both the correlated inputs and non-stationarity problems. \n",
    "\n",
    "They uses CNN with a variant of Q-learning algorithm, and uses stochastic gradient descent (SGD) for the training. They maintained a buffer named - 'Experience Replay' of the transitions while the agent nagivates through the environment. While SGD training process, samples from this stored buffer is used to create mini-batches and used for the training of the NN. This refer this NN as Q-network with parameter, $ \\theta $, which minimizes the sequences of loss functions $ L_i (\\theta_i) $ :\n",
    "\n",
    "\n",
    "$ L_i(\\theta_i) $ = $ \\mathbb{E_{s,a \\sim \\rho(.)}} [ (y_i - Q(s, a; \\theta_i)^2 ] $\n",
    "\n",
    "Where $ y_i = \\mathbb{E_{s' \\sim  \\varepsilon}} [ r + \\gamma \\underset{a'} max (s', a', \\theta_{i-}) | s,a] $\n",
    "\n",
    "is the target for iteration i.\n",
    "\n",
    "They used the previous iteration parameter value ($ \\theta_{i-1} $) in order to calculate the target ($y_i$). The parameter ($ \\theta_{i-1} $) from previous iteration won't change for some long future iterations, which makes it stationary and training will be smooth. They also  feed concatenation of four video frames as an input to the CNN in order to avoid the partial observation contraints in the learning. Using four frames, CNN will be able locate the movement direction, speed of the objects in the frames. \n",
    "\n",
    "\n",
    "DQN is used to train on Atari 2600 games. The video frames from emulator are the observations based on discrete actions (up, down, left, rigth..) of the agent in the environment. The network consists of two convolutional layers and two fully connected layers. The last layer outputs the distribution over possible actions."
   ]
  },
  {
   "cell_type": "code",
   "execution_count": null,
   "metadata": {},
   "outputs": [],
   "source": []
  }
 ],
 "metadata": {
  "kernelspec": {
   "display_name": "Python 3",
   "language": "python",
   "name": "python3"
  },
  "language_info": {
   "codemirror_mode": {
    "name": "ipython",
    "version": 3
   },
   "file_extension": ".py",
   "mimetype": "text/x-python",
   "name": "python",
   "nbconvert_exporter": "python",
   "pygments_lexer": "ipython3",
   "version": "3.5.2"
  },
  "nikola": {
   "category": "",
   "date": "2020-11-08 19:25:42 UTC+05:45",
   "description": "",
   "link": "",
   "slug": "paper-summary-playing-atari-with-deep-reinforcement-learning",
   "tags": "",
   "title": "Paper Summary : Playing Atari With Deep Reinforcement Learning",
   "type": "text"
  }
 },
 "nbformat": 4,
 "nbformat_minor": 2
}
