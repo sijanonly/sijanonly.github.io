{
 "cells": [
  {
   "cell_type": "markdown",
   "metadata": {},
   "source": [
    "Principal Component Analysis is used for dimension reduction of high-dimensional data. We also refer PCA as feature extraction technique, where new features take the linear combinations from original features.\n",
    "\n",
    "More on PCA : <a href=\"https://sijanb.com.np/posts/principal-component-analysis-pca-for-visualization-using-python/\">principal-component-analysis-pca-for-visualization-using-python</a>\n",
    "\n",
    "\n",
    "In this post, we will investigate 'how reliable the information is as preserved by PCA'. In order to do that, we will use labelled data and evaluate the trained model to see the final performance. (In side note, PCA is unsupervised learning algorithm. But, in our case, we are using in supervised fashion to assess the model performance)\n",
    "\n",
    "To make it more interesting, we will also see Random Forests as 'feature selection' and compare the result with PCA."
   ]
  },
  {
   "cell_type": "markdown",
   "metadata": {},
   "source": [
    "### 1. PCA as Feature Extraction"
   ]
  },
  {
   "cell_type": "code",
   "execution_count": 39,
   "metadata": {},
   "outputs": [],
   "source": [
    "%matplotlib inline\n",
    "\n",
    "import numpy as np\n",
    "import seaborn as sns\n",
    "import matplotlib.pyplot as plt\n",
    "import pandas as pd \n",
    "\n",
    "from sklearn.preprocessing import StandardScaler\n",
    "from sklearn.model_selection import train_test_split\n",
    "from sklearn.metrics import accuracy_score\n",
    "from sklearn.ensemble import RandomForestClassifier\n",
    "from sklearn.tree import DecisionTreeClassifier\n"
   ]
  },
  {
   "cell_type": "code",
   "execution_count": 40,
   "metadata": {},
   "outputs": [
    {
     "data": {
      "text/html": [
       "<div>\n",
       "<style scoped>\n",
       "    .dataframe tbody tr th:only-of-type {\n",
       "        vertical-align: middle;\n",
       "    }\n",
       "\n",
       "    .dataframe tbody tr th {\n",
       "        vertical-align: top;\n",
       "    }\n",
       "\n",
       "    .dataframe thead th {\n",
       "        text-align: right;\n",
       "    }\n",
       "</style>\n",
       "<table border=\"1\" class=\"dataframe\">\n",
       "  <thead>\n",
       "    <tr style=\"text-align: right;\">\n",
       "      <th></th>\n",
       "      <th>CLASS</th>\n",
       "      <th>ALCOHOL_LEVEL</th>\n",
       "      <th>MALIC_ACID</th>\n",
       "      <th>ASH</th>\n",
       "      <th>ALCALINITY</th>\n",
       "      <th>MAGNESIUM</th>\n",
       "      <th>PHENOLS</th>\n",
       "      <th>FLAVANOIDS</th>\n",
       "      <th>NON_FLAVANOID_PHENOL</th>\n",
       "      <th>PROANTHOCYANINS</th>\n",
       "      <th>COLOR_INTENSITY</th>\n",
       "      <th>HUE</th>\n",
       "      <th>OD280/OD315_DILUTED</th>\n",
       "      <th>PROLINE</th>\n",
       "    </tr>\n",
       "  </thead>\n",
       "  <tbody>\n",
       "    <tr>\n",
       "      <th>0</th>\n",
       "      <td>1</td>\n",
       "      <td>14.23</td>\n",
       "      <td>1.71</td>\n",
       "      <td>2.43</td>\n",
       "      <td>15.6</td>\n",
       "      <td>127</td>\n",
       "      <td>2.80</td>\n",
       "      <td>3.06</td>\n",
       "      <td>0.28</td>\n",
       "      <td>2.29</td>\n",
       "      <td>5.64</td>\n",
       "      <td>1.04</td>\n",
       "      <td>3.92</td>\n",
       "      <td>1065</td>\n",
       "    </tr>\n",
       "    <tr>\n",
       "      <th>1</th>\n",
       "      <td>1</td>\n",
       "      <td>13.20</td>\n",
       "      <td>1.78</td>\n",
       "      <td>2.14</td>\n",
       "      <td>11.2</td>\n",
       "      <td>100</td>\n",
       "      <td>2.65</td>\n",
       "      <td>2.76</td>\n",
       "      <td>0.26</td>\n",
       "      <td>1.28</td>\n",
       "      <td>4.38</td>\n",
       "      <td>1.05</td>\n",
       "      <td>3.40</td>\n",
       "      <td>1050</td>\n",
       "    </tr>\n",
       "    <tr>\n",
       "      <th>2</th>\n",
       "      <td>1</td>\n",
       "      <td>13.16</td>\n",
       "      <td>2.36</td>\n",
       "      <td>2.67</td>\n",
       "      <td>18.6</td>\n",
       "      <td>101</td>\n",
       "      <td>2.80</td>\n",
       "      <td>3.24</td>\n",
       "      <td>0.30</td>\n",
       "      <td>2.81</td>\n",
       "      <td>5.68</td>\n",
       "      <td>1.03</td>\n",
       "      <td>3.17</td>\n",
       "      <td>1185</td>\n",
       "    </tr>\n",
       "    <tr>\n",
       "      <th>3</th>\n",
       "      <td>1</td>\n",
       "      <td>14.37</td>\n",
       "      <td>1.95</td>\n",
       "      <td>2.50</td>\n",
       "      <td>16.8</td>\n",
       "      <td>113</td>\n",
       "      <td>3.85</td>\n",
       "      <td>3.49</td>\n",
       "      <td>0.24</td>\n",
       "      <td>2.18</td>\n",
       "      <td>7.80</td>\n",
       "      <td>0.86</td>\n",
       "      <td>3.45</td>\n",
       "      <td>1480</td>\n",
       "    </tr>\n",
       "    <tr>\n",
       "      <th>4</th>\n",
       "      <td>1</td>\n",
       "      <td>13.24</td>\n",
       "      <td>2.59</td>\n",
       "      <td>2.87</td>\n",
       "      <td>21.0</td>\n",
       "      <td>118</td>\n",
       "      <td>2.80</td>\n",
       "      <td>2.69</td>\n",
       "      <td>0.39</td>\n",
       "      <td>1.82</td>\n",
       "      <td>4.32</td>\n",
       "      <td>1.04</td>\n",
       "      <td>2.93</td>\n",
       "      <td>735</td>\n",
       "    </tr>\n",
       "  </tbody>\n",
       "</table>\n",
       "</div>"
      ],
      "text/plain": [
       "   CLASS  ALCOHOL_LEVEL  MALIC_ACID   ASH  ALCALINITY  MAGNESIUM  PHENOLS  \\\n",
       "0      1          14.23        1.71  2.43        15.6        127     2.80   \n",
       "1      1          13.20        1.78  2.14        11.2        100     2.65   \n",
       "2      1          13.16        2.36  2.67        18.6        101     2.80   \n",
       "3      1          14.37        1.95  2.50        16.8        113     3.85   \n",
       "4      1          13.24        2.59  2.87        21.0        118     2.80   \n",
       "\n",
       "   FLAVANOIDS  NON_FLAVANOID_PHENOL  PROANTHOCYANINS  COLOR_INTENSITY   HUE  \\\n",
       "0        3.06                  0.28             2.29             5.64  1.04   \n",
       "1        2.76                  0.26             1.28             4.38  1.05   \n",
       "2        3.24                  0.30             2.81             5.68  1.03   \n",
       "3        3.49                  0.24             2.18             7.80  0.86   \n",
       "4        2.69                  0.39             1.82             4.32  1.04   \n",
       "\n",
       "   OD280/OD315_DILUTED  PROLINE  \n",
       "0                 3.92     1065  \n",
       "1                 3.40     1050  \n",
       "2                 3.17     1185  \n",
       "3                 3.45     1480  \n",
       "4                 2.93      735  "
      ]
     },
     "execution_count": 40,
     "metadata": {},
     "output_type": "execute_result"
    }
   ],
   "source": [
    "df = pd.read_csv(\n",
    "    'https://archive.ics.uci.edu/ml/machine-learning-databases/wine/wine.data', header=None, sep=',')\n",
    "\n",
    "df.columns = ['CLASS', 'ALCOHOL_LEVEL', 'MALIC_ACID', 'ASH', 'ALCALINITY','MAGNESIUM', 'PHENOLS', \n",
    "              'FLAVANOIDS', 'NON_FLAVANOID_PHENOL', 'PROANTHOCYANINS', 'COLOR_INTENSITY', \n",
    "              'HUE', 'OD280/OD315_DILUTED','PROLINE']\n",
    "df.head()"
   ]
  },
  {
   "cell_type": "code",
   "execution_count": 41,
   "metadata": {},
   "outputs": [],
   "source": [
    "features = ['ALCOHOL_LEVEL', 'MALIC_ACID', 'ASH', 'ALCALINITY','MAGNESIUM', 'PHENOLS', \n",
    "              'FLAVANOIDS', 'NON_FLAVANOID_PHENOL', 'PROANTHOCYANINS', 'COLOR_INTENSITY', \n",
    "              'HUE', 'OD280/OD315_DILUTED','PROLINE']\n",
    "label = 'CLASS'\n",
    "\n",
    "X = df[features]\n",
    "y = df[label]\n",
    "\n",
    "# train test split with 70% for training\n",
    "X_train, X_test, y_train, y_test = train_test_split(X, y, test_size=0.3, random_state=0)\n"
   ]
  },
  {
   "cell_type": "markdown",
   "metadata": {},
   "source": [
    "#### a. Preparing Projected data using PCA"
   ]
  },
  {
   "cell_type": "code",
   "execution_count": 42,
   "metadata": {},
   "outputs": [],
   "source": [
    "# prepare correlation matrix\n",
    "# standar scaler for normalization\n",
    "N, _ = df.shape\n",
    "scaler = StandardScaler()\n",
    "Z = scaler.fit_transform(X)\n",
    "# Correlation estimation\n",
    "R = np.dot(Z.T, Z) / N\n",
    "\n",
    "# eigendecomposition\n",
    "eigen_values, eigen_vectors = np.linalg.eig(R)\n",
    "\n",
    "# prepare projection matrix\n",
    "value_idx = eigen_values.argsort()[::-1]\n",
    "eigen_vectors_sorted = eigen_vectors[:, value_idx]\n",
    "\n",
    "# Projection matrix with 3 PCs ( 3 PCs cover 65% variance in the data)\n",
    "# more on : https://sijanb.com.np/posts/principal-component-analysis-pca-for-visualization-using-python/\n",
    "M = np.hstack((eigen_vectors_sorted[0][:, np.newaxis],\n",
    "               eigen_vectors_sorted[1][:, np.newaxis],\n",
    "               eigen_vectors_sorted[2][:, np.newaxis]))\n",
    "\n",
    "# projected data\n",
    "projected_data = np.asmatrix(Z) * np.asmatrix(M)"
   ]
  },
  {
   "cell_type": "markdown",
   "metadata": {},
   "source": [
    "#### b. Using Projected data for the training and prediction using Decision Tree"
   ]
  },
  {
   "cell_type": "code",
   "execution_count": 43,
   "metadata": {},
   "outputs": [
    {
     "name": "stdout",
     "output_type": "stream",
     "text": [
      "Test accuracy using Decision tree on PCA projected data: 0.78\n"
     ]
    }
   ],
   "source": [
    "# train test split for training\n",
    "Xpc_train, Xpc_test, ypc_train, ypc_test = train_test_split( projected_data, y, test_size=0.3, random_state=0)\n",
    "\n",
    "tree_pca = DecisionTreeClassifier(max_depth=6, random_state=0)\n",
    "tree_pca.fit(Z_pca_train, y_pca_train)\n",
    "\n",
    "y_pca_pred = tree_pca.predict(Z_pca_test)\n",
    "print('Test accuracy using Decision tree on PCA projected data: %.2f' % accuracy_score(y_pca_test, y_pca_pred))"
   ]
  },
  {
   "cell_type": "markdown",
   "metadata": {},
   "source": [
    "<!-- TEASER_END -->"
   ]
  },
  {
   "cell_type": "markdown",
   "metadata": {},
   "source": [
    "### 2. Random Forest as Feature Selection"
   ]
  },
  {
   "cell_type": "markdown",
   "metadata": {},
   "source": [
    "Random Forest is an ensemble learning of decision trees, where number of decision trees will give better generalization performance to the final model.\n",
    "\n",
    "\n",
    "#### a. Training\n",
    "\n",
    "We will be using the same Wine data as we used in our previous post. "
   ]
  },
  {
   "cell_type": "code",
   "execution_count": 44,
   "metadata": {},
   "outputs": [
    {
     "data": {
      "text/plain": [
       "RandomForestClassifier(bootstrap=True, class_weight=None, criterion='gini',\n",
       "                       max_depth=None, max_features='auto', max_leaf_nodes=None,\n",
       "                       min_impurity_decrease=0.0, min_impurity_split=None,\n",
       "                       min_samples_leaf=1, min_samples_split=2,\n",
       "                       min_weight_fraction_leaf=0.0, n_estimators=100, n_jobs=2,\n",
       "                       oob_score=False, random_state=1, verbose=0,\n",
       "                       warm_start=False)"
      ]
     },
     "execution_count": 44,
     "metadata": {},
     "output_type": "execute_result"
    }
   ],
   "source": [
    "# Random Forests with 100 decision trees\n",
    "# using parallized ( assign 2 cores for computation (n_jobs))\n",
    "model = RandomForestClassifier(n_estimators=100, random_state=1,n_jobs=2)\n",
    "model.fit(X_train, y_train)"
   ]
  },
  {
   "cell_type": "code",
   "execution_count": 45,
   "metadata": {},
   "outputs": [
    {
     "name": "stdout",
     "output_type": "stream",
     "text": [
      "Test accuracy using Random Forests: 0.96\n"
     ]
    }
   ],
   "source": [
    "\n",
    "y_predictions = model.predict(X_test)\n",
    "print('Test accuracy using Random Forests: %.2f' % accuracy_score(y_test, y_predictions))"
   ]
  },
  {
   "cell_type": "markdown",
   "metadata": {},
   "source": [
    "#### b. Calculate Feature importance\n",
    "\n",
    "Random Forest calculates the feature importance based on it's contribution to model accuracy. It simply assigns a value between 0 and 1 to each feature. Value near to 1 signifies it's higher contribution for model correct prediction."
   ]
  },
  {
   "cell_type": "code",
   "execution_count": 46,
   "metadata": {},
   "outputs": [
    {
     "data": {
      "text/html": [
       "<div>\n",
       "<style scoped>\n",
       "    .dataframe tbody tr th:only-of-type {\n",
       "        vertical-align: middle;\n",
       "    }\n",
       "\n",
       "    .dataframe tbody tr th {\n",
       "        vertical-align: top;\n",
       "    }\n",
       "\n",
       "    .dataframe thead th {\n",
       "        text-align: right;\n",
       "    }\n",
       "</style>\n",
       "<table border=\"1\" class=\"dataframe\">\n",
       "  <thead>\n",
       "    <tr style=\"text-align: right;\">\n",
       "      <th></th>\n",
       "      <th>feature</th>\n",
       "      <th>importances</th>\n",
       "    </tr>\n",
       "  </thead>\n",
       "  <tbody>\n",
       "    <tr>\n",
       "      <th>9</th>\n",
       "      <td>COLOR_INTENSITY</td>\n",
       "      <td>0.164909</td>\n",
       "    </tr>\n",
       "    <tr>\n",
       "      <th>6</th>\n",
       "      <td>FLAVANOIDS</td>\n",
       "      <td>0.164451</td>\n",
       "    </tr>\n",
       "    <tr>\n",
       "      <th>12</th>\n",
       "      <td>PROLINE</td>\n",
       "      <td>0.158675</td>\n",
       "    </tr>\n",
       "    <tr>\n",
       "      <th>11</th>\n",
       "      <td>OD280/OD315_DILUTED</td>\n",
       "      <td>0.154081</td>\n",
       "    </tr>\n",
       "    <tr>\n",
       "      <th>0</th>\n",
       "      <td>ALCOHOL_LEVEL</td>\n",
       "      <td>0.115701</td>\n",
       "    </tr>\n",
       "  </tbody>\n",
       "</table>\n",
       "</div>"
      ],
      "text/plain": [
       "                feature  importances\n",
       "9       COLOR_INTENSITY     0.164909\n",
       "6            FLAVANOIDS     0.164451\n",
       "12              PROLINE     0.158675\n",
       "11  OD280/OD315_DILUTED     0.154081\n",
       "0         ALCOHOL_LEVEL     0.115701"
      ]
     },
     "execution_count": 46,
     "metadata": {},
     "output_type": "execute_result"
    }
   ],
   "source": [
    "feature_imp = pd.DataFrame({'feature': features,'importances': model.feature_importances_}).\\\n",
    "                    sort_values('importances', ascending = False)\n",
    "\n",
    "feature_imp.head()\n"
   ]
  },
  {
   "cell_type": "code",
   "execution_count": 47,
   "metadata": {},
   "outputs": [
    {
     "data": {
      "text/plain": [
       "<matplotlib.axes._subplots.AxesSubplot at 0x7f4d74eb06a0>"
      ]
     },
     "execution_count": 47,
     "metadata": {},
     "output_type": "execute_result"
    },
    {
     "data": {
      "image/png": "[encoded data removed]",
      "text/plain": [
       "<Figure size 432x288 with 1 Axes>"
      ]
     },
     "metadata": {
      "needs_background": "light"
     },
     "output_type": "display_data"
    }
   ],
   "source": [
    "feature_imp.plot('feature', 'importances', kind='bar')"
   ]
  },
  {
   "cell_type": "markdown",
   "metadata": {},
   "source": [
    "We can see that four features 'Color intensity', 'Flavanoids', 'Proline', and 'OD280/OD315_DILUTED' have higher importance and we can use them in order to classify different wines.\n",
    "\n",
    "For the simplicity, we will use first three features ('Color intensity', 'Flavanoids', 'Proline') and use for our classification.\n",
    "\n",
    "\n",
    "NOTE* : Since we are using 3 Principal components, we will use 3 features from Random Forests to build our new model."
   ]
  },
  {
   "cell_type": "markdown",
   "metadata": {},
   "source": [
    "#### c. Prepare Decision Tree model based on features selected by Random Forests"
   ]
  },
  {
   "cell_type": "code",
   "execution_count": 48,
   "metadata": {},
   "outputs": [],
   "source": [
    "# select only two features for new data, that we will use for training/prediction\n",
    "X_rf = X[['COLOR_INTENSITY', 'FLAVANOIDS', 'PROLINE']]"
   ]
  },
  {
   "cell_type": "code",
   "execution_count": 49,
   "metadata": {},
   "outputs": [
    {
     "name": "stdout",
     "output_type": "stream",
     "text": [
      "Test accuracy using Decision tree on data based on Features by Random Forests: 0.94\n"
     ]
    }
   ],
   "source": [
    "# train test split on X_rf\n",
    "\n",
    "Xrf_train, Xrf_test, yrf_train, yrf_test = train_test_split(X_rf, y, test_size=0.3, random_state=0)\n",
    "\n",
    "# prepare decision tree model based on features selected by Random Forests\n",
    "model_rf = DecisionTreeClassifier(max_depth=6, random_state=0)\n",
    "model_rf.fit(Xrf_train, yrf_train)\n",
    "\n",
    "yrf_prediction = model_rf.predict(Xrf_test)\n",
    "print('Test accuracy using Decision tree on data based on Features by Random Forests: %.2f' % accuracy_score(yrf_test, yrf_prediction))\n"
   ]
  },
  {
   "cell_type": "markdown",
   "metadata": {},
   "source": [
    "We train two different Decision Tree based on PCA projected data and important features given by Random Forests. We saw that the Test Accuracy by PCA based model is 78% whereas that based on Random Forests features is 94 %. The results are not much comparable but the goal here is to understand - 'PCA preserves the information'. I have used only 3 principal components (which covers only 65% variance in the data). We can add more principal components to get the comparable results."
   ]
  }
 ],
 "metadata": {
  "kernelspec": {
   "display_name": "Python 3",
   "language": "python",
   "name": "python3"
  },
  "language_info": {
   "codemirror_mode": {
    "name": "ipython",
    "version": 3
   },
   "file_extension": ".py",
   "mimetype": "text/x-python",
   "name": "python",
   "nbconvert_exporter": "python",
   "pygments_lexer": "ipython3",
   "version": "3.5.2"
  },
  "nikola": {
   "category": "",
   "date": "2020-03-28 23:02:59 UTC+05:45",
   "description": "",
   "link": "",
   "slug": "how-do-i-know-principal-component-analysis-pca-is-preserving-information-from-my-data",
   "tags": "principal-component-analysis, random-forest, decision-tree",
   "title": "How do I know Principal Component Analysis (PCA) is preserving information from my data ?",
   "type": "text"
  }
 },
 "nbformat": 4,
 "nbformat_minor": 2
}
