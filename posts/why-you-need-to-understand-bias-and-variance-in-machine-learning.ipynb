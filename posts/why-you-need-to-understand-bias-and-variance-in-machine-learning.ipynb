{
 "cells": [
  {
   "cell_type": "markdown",
   "metadata": {},
   "source": [
    "Let me start with an example. Suppose you have built a ML model under supervised learning which can detect faces from your family members. You simply feed all the family photos to your model. And, at the end, you would like to know how much your model learnt from your training process.\n",
    "\n",
    "\n",
    "<img src='/images/bias_variance.png'>"
   ]
  },
  {
   "cell_type": "markdown",
   "metadata": {},
   "source": [
    "After training your model, you will find a function that maps input (image) to output labels(family members).\n",
    "If we represent your ML model with a function 'f',we can write this process as: \n",
    "\n",
    "      y = f(x),\n",
    "       where  x = input  (your family photos)\n",
    "              y = output (model prediction) (predictiong whether the photo is your father, mother or sister)\n",
    "\n",
    "\n",
    "Suppose, you use `50` images for your training process and use the same images to see whether the model can predict the label correctly or not. If you found that `10` out of `50` images are not predicted well, you can say : `20%` training error. \n",
    "If you think about the intuition behind this calculation, it is saying that 'the model is not doing well with the training data itself'. That means it underfits the data. It does not want to carry all the information available in your data.\n",
    "\n",
    "*NOTE: If your model 'f' is a linear model than it will be really hard for your model to classify the photos using linear function."
   ]
  },
  {
   "cell_type": "markdown",
   "metadata": {},
   "source": [
    "<!-- TEASER_END -->"
   ]
  },
  {
   "cell_type": "markdown",
   "metadata": {},
   "source": [
    "Let us consider the different scenario. You found that there is only `2%` training error after training your model. And, you are happy that only `1` image out of `50` is being wrongly predicted. But, you are still suspicious about your model and apply different strategy this time. You captured new `10` photos of your family and gave it to the model. And, at this time all the `10` photos are wrongly predicted by your model.\n",
    "What we can see is that 'your model learn everything from the training data without considering the generalization of data'. We can also say that model overfits your training data. O"
   ]
  }
 ],
 "metadata": {
  "kernelspec": {
   "display_name": "Python 3",
   "language": "python",
   "name": "python3"
  },
  "language_info": {
   "codemirror_mode": {
    "name": "ipython",
    "version": 3
   },
   "file_extension": ".py",
   "mimetype": "text/x-python",
   "name": "python",
   "nbconvert_exporter": "python",
   "pygments_lexer": "ipython3",
   "version": "3.5.2"
  },
  "nikola": {
   "category": "",
   "date": "2019-04-11 00:40:44 UTC+05:45",
   "description": "",
   "link": "",
   "slug": "why-you-need-to-understand-bias-and-variance-in-machine-learning",
   "tags": "",
   "title": "Why you need to understand bias and variance in Machine Learning",
   "type": "text"
  }
 },
 "nbformat": 4,
 "nbformat_minor": 2
}
