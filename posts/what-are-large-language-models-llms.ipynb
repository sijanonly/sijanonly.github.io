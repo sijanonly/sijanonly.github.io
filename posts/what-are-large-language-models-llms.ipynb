{
 "cells": [
  {
   "cell_type": "markdown",
   "id": "d8aa7401",
   "metadata": {},
   "source": [
    "Write your post here."
   ]
  }
 ],
 "metadata": {
  "kernelspec": {
   "display_name": "Python 3 (ipykernel)",
   "env": {},
   "interrupt_mode": "signal",
   "language": "python",
   "metadata": {
    "debugger": true
   },
   "name": "python3"
  },
  "nikola": {
   "category": "",
   "date": "2025-06-08 19:46:53 UTC+05:45",
   "description": "",
   "link": "",
   "slug": "what-are-large-language-models-llms",
   "tags": "",
   "title": "What are Large Language Models (LLMs) ?",
   "type": "text"
  }
 },
 "nbformat": 4,
 "nbformat_minor": 5
}
