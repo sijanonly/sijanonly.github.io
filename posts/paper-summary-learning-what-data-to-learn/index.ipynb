{
 "cells": [
  {
   "cell_type": "markdown",
   "metadata": {},
   "source": [
    "Summary of the paper [\"Learning What Data to Learn\"](https://arxiv.org/pdf/1702.08635.pdf)"
   ]
  },
  {
   "cell_type": "markdown",
   "metadata": {},
   "source": [
    "#### Motivation\n",
    "\n",
    "The performance of learning algorithms based on Machine Learning or Deep Learning rely on amount of training data. Having more data points also has benefit of learning more generalized models and avoiding overfitting. However, collecting data is a painstalking work. Instead, we can learn automatic and adaptive data selection in the training process and make learning faster with minimal data points.\n"
   ]
  },
  {
   "cell_type": "markdown",
   "metadata": {},
   "source": [
    "#### Contribution\n",
    "\n",
    "In this paper, authors have introduced  Neural Data Filter (NDF) as an adaptive framework which can learn data selection policy using deep reinforcement learning(DRL) algorithm 'Policy Gradient'.\n",
    "Two important aspects of this framework:\n",
    "\n",
    "a. NDF filter the data instances from randomly fetched mini-batches of data during training process.\n",
    "b. Training loop provides feedback to NDF policy based on reward signal (e.g. calculated in validation set) and NDF policy is trained using DRL.\n",
    "\n",
    "\n",
    "##### NDF in detail\n",
    "\n",
    "NDF is designed to filter out some portion of training data based on some quality measure. The filtered high-quality data points speed up the convergence of the model.\n",
    "\n",
    "In order to formulate Markov Decision Process (MDP) in NDF, authors used 'SGD-MDP' with following tuple:\n",
    "<s, a, P, r, $ \\gamma $>\n",
    "\n",
    " * s : representing mini-batch data and current state of training model (weights/biases) as a state\n",
    " * a : binary filtering actions;  $ a = {\\{a_m\\}}_{m=1}^M \\in (0, 1)^M $, M-batch size and $ a_m \\in \\{0,1\\} $\n",
    " indicating whether a particular data instance in minibatch will be selected or not.\n",
    " * P : P(s`| s, a) is a transition probability\n",
    " * r = r(s,a), reward signal based on performance of the current model under consideration (e.g. validation accuracy), \n",
    " * $ \\gamma \\in [0,1] $, discounting factor\n",
    " \n",
    "The  NDF policy A(s,a, $ \\Theta $) can be represented by a binary classification algorithm such as logistic regression or deep NN, where $ \\Theta $ is policy parameter and it is updated as:\n",
    "\n",
    "$ \\Theta \\gets \\Theta + \\alpha V_t \\sum_m \\frac{\\partial log P_{\\Theta} (a_m|s_m)}{\\partial \\Theta} $\n",
    "\n",
    "and, V_t is the sampled estimation of reward R(s_t, a_t) from one episode."
   ]
  },
  {
   "cell_type": "code",
   "execution_count": null,
   "metadata": {},
   "outputs": [],
   "source": []
  }
 ],
 "metadata": {
  "kernelspec": {
   "display_name": "Python 3",
   "language": "python",
   "name": "python3"
  },
  "language_info": {
   "codemirror_mode": {
    "name": "ipython",
    "version": 3
   },
   "file_extension": ".py",
   "mimetype": "text/x-python",
   "name": "python",
   "nbconvert_exporter": "python",
   "pygments_lexer": "ipython3",
   "version": "3.5.2"
  },
  "nikola": {
   "category": "",
   "date": "2020-10-31 21:18:59 UTC+05:45",
   "description": "",
   "link": "",
   "slug": "paper-summary-learning-what-data-to-learn",
   "tags": "",
   "title": "Paper Summary : Learning What Data to Learn",
   "type": "text"
  }
 },
 "nbformat": 4,
 "nbformat_minor": 2
}
