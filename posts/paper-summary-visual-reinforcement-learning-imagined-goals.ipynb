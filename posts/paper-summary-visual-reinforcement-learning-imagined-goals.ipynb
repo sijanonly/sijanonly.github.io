{
 "cells": [
  {
   "cell_type": "markdown",
   "metadata": {},
   "source": [
    "Summary of the paper [\"Visual Reinforcement Learning with Imagined Goals\"](https://arxiv.org/abs/1807.04742)"
   ]
  },
  {
   "cell_type": "markdown",
   "metadata": {},
   "source": [
    "#### Motivation\n",
    "\n",
    "Humans can easily adjust themselves or adopt to new environments and learn new tasks by setting their own goals. In case of Reinforcement Learning framework, we have to manually design the reward function which gives an orientation towards the goal of a given task. For example, if we have to train a robot to pick a package and deliver to a destination, we have to set reward based on its distance-covered. Along with delivery task, there might be other tasks like adjusting robot-arm to pick the package based on it's shape/size or placing the package at the destination without throwing it on the ground. For each of these tasks, we can design specific-reward functions.But, it won't be practical or scalable for real-world problems where an agent has to solve many tasks synchronously. \n",
    "\n"
   ]
  },
  {
   "cell_type": "markdown",
   "metadata": {},
   "source": [
    "#### Contribution\n",
    "\n",
    "Authors proposed a reinforcement learning framework where an agent can learn general-purpose goal-conditioned polices by setting it's own synthetic goals and learning tasks to achieve those goals, without human intervention.\n",
    "\n",
    "They referred this framework as \"reinforcement with imagined goals\" (RIG).\n",
    "\n",
    "\n",
    "\n",
    "##### Synthetic Goals\n",
    "\n",
    "Initially, the agent itself generate a set of synthetic goals by exploration through a random policy. Both state observations and goals are the image data (for example in case of robot navigation). By random policy, agent executes some random actions in the environment and the trajectories consisting of state observations are stored for later use.\n",
    "\n",
    "During policy training phase, agent can randomly fetch those stored observations as a set of initial states or set of goals. \n",
    "\n",
    "Now, we have all the information to train a goal-conditioned agent. Authors used Q-learning agent - Q(s,a,g), where\n",
    "s - states, a- actions and g-goals to be achieved by executing action 'a'.\n",
    "And, the optimal policy can be derived as : $  \\pi (s,g) = \\underset{a} max Q(s,a, g) $ \n",
    "\n",
    "\n",
    "In order to train this policy, two main issues need to be addressed:\n",
    "\n",
    "a. How to design reward function ? Distance between images while nagivation is one possible reward. But, pixel-wise distance won't carry semantic meaning of actual distance between states and this will be also computationally involved.\n",
    "b. How to represent the goal as a distribution so that we sample goals for the training?\n",
    "\n",
    "Authorse resolved these issues by using Variational Autoencoders (VAE), to learn encoded representation of images. The VAE takes raw images (x) as input and generate low-dimensional latent representation (z). Using these latent representation, we have now latent states (z)  and latent goals ($ z_g $).\n",
    "\n",
    "The working algorithm can be summarized as :\n",
    "\n",
    "a. Initially, agent explores environment using random policy and the state observations will be stored. \n",
    "\n",
    "b. VAE will be trained using raw images from (a) to learn latent representation of all state observations.\n",
    "\n",
    "c. Initial states (z) and goals ($ z_g $) are sampled from  (b)\n",
    "\n",
    "d. Goal-conditioned Q-function Q(z,a, $ z_g $) is trained using data from (c) and policy $ \\pi_{\\theta} (z, z_g) $ will be learnt in the latent space."
   ]
  },
  {
   "cell_type": "code",
   "execution_count": null,
   "metadata": {},
   "outputs": [],
   "source": []
  },
  {
   "cell_type": "code",
   "execution_count": null,
   "metadata": {},
   "outputs": [],
   "source": []
  }
 ],
 "metadata": {
  "kernelspec": {
   "display_name": "Python 3",
   "language": "python",
   "name": "python3"
  },
  "language_info": {
   "codemirror_mode": {
    "name": "ipython",
    "version": 3
   },
   "file_extension": ".py",
   "mimetype": "text/x-python",
   "name": "python",
   "nbconvert_exporter": "python",
   "pygments_lexer": "ipython3",
   "version": "3.5.2"
  },
  "nikola": {
   "category": "",
   "date": "2020-10-31 15:41:42 UTC+05:45",
   "description": "",
   "link": "",
   "slug": "paper-summary-visual-reinforcement-learning-imagined-goals",
   "tags": "",
   "title": "Paper Summary : Visual Reinforcement Learning Imagined Goals",
   "type": "text"
  }
 },
 "nbformat": 4,
 "nbformat_minor": 2
}
